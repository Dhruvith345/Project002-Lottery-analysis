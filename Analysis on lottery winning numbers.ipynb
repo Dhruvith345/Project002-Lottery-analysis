{
 "cells": [
  {
   "cell_type": "code",
   "execution_count": 43,
   "id": "ac4b18a8",
   "metadata": {},
   "outputs": [],
   "source": [
    "import pandas as pd\n",
    "import numpy as np"
   ]
  },
  {
   "cell_type": "code",
   "execution_count": 44,
   "id": "61e55357",
   "metadata": {},
   "outputs": [],
   "source": [
    "#to read the csv file\n",
    "df=pd.read_csv('Raw data of lottery from data.gov.csv')"
   ]
  },
  {
   "cell_type": "code",
   "execution_count": 45,
   "id": "f40b7697",
   "metadata": {},
   "outputs": [
    {
     "data": {
      "text/html": [
       "<div>\n",
       "<style scoped>\n",
       "    .dataframe tbody tr th:only-of-type {\n",
       "        vertical-align: middle;\n",
       "    }\n",
       "\n",
       "    .dataframe tbody tr th {\n",
       "        vertical-align: top;\n",
       "    }\n",
       "\n",
       "    .dataframe thead th {\n",
       "        text-align: right;\n",
       "    }\n",
       "</style>\n",
       "<table border=\"1\" class=\"dataframe\">\n",
       "  <thead>\n",
       "    <tr style=\"text-align: right;\">\n",
       "      <th></th>\n",
       "      <th>Draw Date</th>\n",
       "      <th>Winning Numbers</th>\n",
       "      <th>Multiplier</th>\n",
       "    </tr>\n",
       "  </thead>\n",
       "  <tbody>\n",
       "    <tr>\n",
       "      <th>0</th>\n",
       "      <td>09/26/2020</td>\n",
       "      <td>11 21 27 36 62 24</td>\n",
       "      <td>3.0</td>\n",
       "    </tr>\n",
       "    <tr>\n",
       "      <th>1</th>\n",
       "      <td>09/30/2020</td>\n",
       "      <td>14 18 36 49 67 18</td>\n",
       "      <td>2.0</td>\n",
       "    </tr>\n",
       "    <tr>\n",
       "      <th>2</th>\n",
       "      <td>10/03/2020</td>\n",
       "      <td>18 31 36 43 47 20</td>\n",
       "      <td>2.0</td>\n",
       "    </tr>\n",
       "    <tr>\n",
       "      <th>3</th>\n",
       "      <td>10/07/2020</td>\n",
       "      <td>06 24 30 53 56 19</td>\n",
       "      <td>2.0</td>\n",
       "    </tr>\n",
       "    <tr>\n",
       "      <th>4</th>\n",
       "      <td>10/10/2020</td>\n",
       "      <td>05 18 23 40 50 18</td>\n",
       "      <td>3.0</td>\n",
       "    </tr>\n",
       "  </tbody>\n",
       "</table>\n",
       "</div>"
      ],
      "text/plain": [
       "    Draw Date    Winning Numbers  Multiplier\n",
       "0  09/26/2020  11 21 27 36 62 24         3.0\n",
       "1  09/30/2020  14 18 36 49 67 18         2.0\n",
       "2  10/03/2020  18 31 36 43 47 20         2.0\n",
       "3  10/07/2020  06 24 30 53 56 19         2.0\n",
       "4  10/10/2020  05 18 23 40 50 18         3.0"
      ]
     },
     "execution_count": 45,
     "metadata": {},
     "output_type": "execute_result"
    }
   ],
   "source": [
    "df.head()\n",
    "#with this we found the main columns of the data frame"
   ]
  },
  {
   "cell_type": "code",
   "execution_count": 46,
   "id": "150a264f",
   "metadata": {},
   "outputs": [],
   "source": [
    "#Now we need to find the most probable 5 numbers which are likely to win"
   ]
  },
  {
   "cell_type": "code",
   "execution_count": 65,
   "id": "bc5448c0",
   "metadata": {},
   "outputs": [],
   "source": [
    "# we dont know the exact number where the number ends so lets consider the last to be 100 if we do see the graph being plotted \n",
    "#on 100 we will take more numbers,Numbers of choice cant be too much for a lottery\n",
    "m=np.zeros(101)\n",
    "#this is to initialise  an array having 101 zeroes so that next if numbers are equal to its index we add it by 1 so that we get \n",
    "# count of each number"
   ]
  },
  {
   "cell_type": "code",
   "execution_count": 66,
   "id": "019f1a37",
   "metadata": {},
   "outputs": [
    {
     "data": {
      "text/plain": [
       "'11 21 27 36 62 24'"
      ]
     },
     "execution_count": 66,
     "metadata": {},
     "output_type": "execute_result"
    }
   ],
   "source": [
    "#now lets try to extract each number:\n",
    "df.iloc[0]['Winning Numbers']"
   ]
  },
  {
   "cell_type": "code",
   "execution_count": 67,
   "id": "83d60f64",
   "metadata": {},
   "outputs": [
    {
     "data": {
      "text/plain": [
       "str"
      ]
     },
     "execution_count": 67,
     "metadata": {},
     "output_type": "execute_result"
    }
   ],
   "source": [
    "#alright we got the numbers but we haven't got each number lets see its type:\n",
    "type(df.iloc[0]['Winning Numbers'])"
   ]
  },
  {
   "cell_type": "code",
   "execution_count": 68,
   "id": "90bce84e",
   "metadata": {},
   "outputs": [
    {
     "data": {
      "text/plain": [
       "'11'"
      ]
     },
     "execution_count": 68,
     "metadata": {},
     "output_type": "execute_result"
    }
   ],
   "source": [
    "#alright its a string I hope we can split it\n",
    "str=df.iloc[0]['Winning Numbers']\n",
    "list=str.split()\n",
    "list[0]"
   ]
  },
  {
   "cell_type": "code",
   "execution_count": 69,
   "id": "f9c3aeed",
   "metadata": {},
   "outputs": [],
   "source": [
    "# awseme we now have each number\n",
    "#lets do a for loop and get the count of win for each number"
   ]
  },
  {
   "cell_type": "code",
   "execution_count": 70,
   "id": "099fe38f",
   "metadata": {},
   "outputs": [],
   "source": [
    "#this the logic of what I had said earlier\n",
    "\n",
    "for i in range(int(len(df)/3)):# the length of a data frame is rows*columns \n",
    "    #since there are 3 cols we divide the size by 3\n",
    "    k=df.iloc[i]['Winning Numbers']#to extract the sring of numbers\n",
    "    numstring=k.split()   # to remove the spaces and have each number as 1 index\n",
    "    for i in range(0,len(numstring)):#to iterate from 0 to length of string \n",
    "        for j in range(1,int(len(m))):# to iterate from numbers 0 to 100\n",
    "            if j==int(numstring[i]):# checks each winning number to numbers 1 to 100 and adds 1 if satisfied\n",
    "                m[j]=m[j]+1    "
   ]
  },
  {
   "cell_type": "code",
   "execution_count": 71,
   "id": "764be8ad",
   "metadata": {},
   "outputs": [],
   "source": [
    "#to define x axis having all numbers from 1 to 10\n",
    "x=np.arange(101)"
   ]
  },
  {
   "cell_type": "code",
   "execution_count": 72,
   "id": "13fd415c",
   "metadata": {},
   "outputs": [
    {
     "data": {
      "image/png": "[encoded data removed]",
      "text/plain": [
       "<Figure size 640x480 with 1 Axes>"
      ]
     },
     "metadata": {},
     "output_type": "display_data"
    }
   ],
   "source": [
    "# to plot the graph of numbers vs counts\n",
    "import matplotlib.pyplot as plt\n",
    "plt.plot(x,m)\n",
    "plt.xlabel('all numbers')\n",
    "plt.ylabel('no of wins')\n",
    "plt.show()"
   ]
  },
  {
   "cell_type": "code",
   "execution_count": 74,
   "id": "99f705d1",
   "metadata": {},
   "outputs": [],
   "source": [
    "#now we know it ends at it might end some weher at 70 \n",
    "#its fine even if 71 has some value it surely will not have the best win rate"
   ]
  },
  {
   "cell_type": "code",
   "execution_count": null,
   "id": "a7f4f313",
   "metadata": {},
   "outputs": [],
   "source": [
    "#from graph we also find out that the numbers with most occurence is at maybe some what 20 to 25\n",
    "\n",
    "#Whatever most numbers at higher win rate are from some what 16-25 range\n",
    "\n",
    "#number from 2 to 10 also have quite a good winrate"
   ]
  },
  {
   "cell_type": "code",
   "execution_count": 75,
   "id": "ade2a819",
   "metadata": {},
   "outputs": [],
   "source": [
    "#Now its finally time to find the 5 numbers with the best win rate"
   ]
  },
  {
   "cell_type": "code",
   "execution_count": 73,
   "id": "8bff8cf2",
   "metadata": {},
   "outputs": [
    {
     "name": "stdout",
     "output_type": "stream",
     "text": [
      "The 5 numbers with the highest win rate\n",
      "21 with win rate of 73.0\n",
      "18 with win rate of 66.0\n",
      "23 with win rate of 64.0\n",
      "14 with win rate of 63.0\n",
      "3 with win rate of 61.0\n"
     ]
    }
   ],
   "source": [
    "#this the logic\n",
    "print(\"The 5 numbers with the highest win rate\")\n",
    "for i in range(5):# for five maximum numbers\n",
    "    max=0\n",
    "    #loop for numbers from 1 to 70 to check with max and get max value  \n",
    "    for j in range(1,70):\n",
    "        if(m[j]>max):\n",
    "            max=m[j]\n",
    "            larg=j\n",
    "    print((larg),\"with win rate of\",max)\n",
    "    m[larg]=0\n",
    "    #every time the index with maximum value is given zero so that the result will not be five times the same value       "
   ]
  },
  {
   "cell_type": "code",
   "execution_count": null,
   "id": "f269be46",
   "metadata": {},
   "outputs": [],
   "source": []
  },
  {
   "cell_type": "code",
   "execution_count": null,
   "id": "dd4df747",
   "metadata": {},
   "outputs": [],
   "source": []
  }
 ],
 "metadata": {
  "kernelspec": {
   "display_name": "Python 3 (ipykernel)",
   "language": "python",
   "name": "python3"
  },
  "language_info": {
   "codemirror_mode": {
    "name": "ipython",
    "version": 3
   },
   "file_extension": ".py",
   "mimetype": "text/x-python",
   "name": "python",
   "nbconvert_exporter": "python",
   "pygments_lexer": "ipython3",
   "version": "3.9.13"
  }
 },
 "nbformat": 4,
 "nbformat_minor": 5
}
